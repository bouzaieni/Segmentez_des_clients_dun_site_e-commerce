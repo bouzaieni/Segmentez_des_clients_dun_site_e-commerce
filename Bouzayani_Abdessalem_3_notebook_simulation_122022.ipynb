{
 "cells": [
  {
   "cell_type": "code",
   "execution_count": 1,
   "id": "a98cf2f1",
   "metadata": {},
   "outputs": [],
   "source": [
    "%load_ext pycodestyle_magic\n",
    "%pycodestyle_on\n",
    "# Pour vérifier que le code respecte la convention PEP8"
   ]
  },
  {
   "cell_type": "code",
   "execution_count": 2,
   "id": "d7d72ba1",
   "metadata": {},
   "outputs": [
    {
     "data": {
      "text/html": [
       "<div id=\"my_id_menu_nb\">run previous cell, wait for 2 seconds</div>\n",
       "<script>\n",
       "function repeat_indent_string(n){\n",
       "    var a = \"\" ;\n",
       "    for ( ; n > 0 ; --n)\n",
       "        a += \"    \";\n",
       "    return a;\n",
       "}\n",
       "// look up into all sections and builds an automated menu //\n",
       "var update_menu_string = function(begin, lfirst, llast, sformat, send, keep_item, begin_format, end_format) {\n",
       "    var anchors = document.getElementsByClassName(\"section\");\n",
       "    if (anchors.length == 0) {\n",
       "        anchors = document.getElementsByClassName(\"text_cell_render rendered_html\");\n",
       "    }\n",
       "    var i,t;\n",
       "    var text_menu = begin;\n",
       "    var text_memo = \"<pre>\\nlength:\" + anchors.length + \"\\n\";\n",
       "    var ind = \"\";\n",
       "    var memo_level = 1;\n",
       "    var href;\n",
       "    var tags = [];\n",
       "    var main_item = 0;\n",
       "    var format_open = 0;\n",
       "    for (i = 0; i <= llast; i++)\n",
       "        tags.push(\"h\" + i);\n",
       "\n",
       "    for (i = 0; i < anchors.length; i++) {\n",
       "        text_memo += \"**\" + anchors[i].id + \"--\\n\";\n",
       "\n",
       "        var child = null;\n",
       "        for(t = 0; t < tags.length; t++) {\n",
       "            var r = anchors[i].getElementsByTagName(tags[t]);\n",
       "            if (r.length > 0) {\n",
       "child = r[0];\n",
       "break;\n",
       "            }\n",
       "        }\n",
       "        if (child == null) {\n",
       "            text_memo += \"null\\n\";\n",
       "            continue;\n",
       "        }\n",
       "        if (anchors[i].hasAttribute(\"id\")) {\n",
       "            // when converted in RST\n",
       "            href = anchors[i].id;\n",
       "            text_memo += \"#1-\" + href;\n",
       "            // passer à child suivant (le chercher)\n",
       "        }\n",
       "        else if (child.hasAttribute(\"id\")) {\n",
       "            // in a notebook\n",
       "            href = child.id;\n",
       "            text_memo += \"#2-\" + href;\n",
       "        }\n",
       "        else {\n",
       "            text_memo += \"#3-\" + \"*\" + \"\\n\";\n",
       "            continue;\n",
       "        }\n",
       "        var title = child.textContent;\n",
       "        var level = parseInt(child.tagName.substring(1,2));\n",
       "\n",
       "        text_memo += \"--\" + level + \"?\" + lfirst + \"--\" + title + \"\\n\";\n",
       "\n",
       "        if ((level < lfirst) || (level > llast)) {\n",
       "            continue ;\n",
       "        }\n",
       "        if (title.endsWith('¶')) {\n",
       "            title = title.substring(0,title.length-1).replace(\"<\", \"&lt;\")\n",
       "         .replace(\">\", \"&gt;\").replace(\"&\", \"&amp;\");\n",
       "        }\n",
       "        if (title.length == 0) {\n",
       "            continue;\n",
       "        }\n",
       "\n",
       "        while (level < memo_level) {\n",
       "            text_menu += end_format + \"</ul>\\n\";\n",
       "            format_open -= 1;\n",
       "            memo_level -= 1;\n",
       "        }\n",
       "        if (level == lfirst) {\n",
       "            main_item += 1;\n",
       "        }\n",
       "        if (keep_item != -1 && main_item != keep_item + 1) {\n",
       "            // alert(main_item + \" - \" + level + \" - \" + keep_item);\n",
       "            continue;\n",
       "        }\n",
       "        while (level > memo_level) {\n",
       "            text_menu += \"<ul>\\n\";\n",
       "            memo_level += 1;\n",
       "        }\n",
       "        text_menu += repeat_indent_string(level-2);\n",
       "        text_menu += begin_format + sformat.replace(\"__HREF__\", href).replace(\"__TITLE__\", title);\n",
       "        format_open += 1;\n",
       "    }\n",
       "    while (1 < memo_level) {\n",
       "        text_menu += end_format + \"</ul>\\n\";\n",
       "        memo_level -= 1;\n",
       "        format_open -= 1;\n",
       "    }\n",
       "    text_menu += send;\n",
       "    //text_menu += \"\\n\" + text_memo;\n",
       "\n",
       "    while (format_open > 0) {\n",
       "        text_menu += end_format;\n",
       "        format_open -= 1;\n",
       "    }\n",
       "    return text_menu;\n",
       "};\n",
       "var update_menu = function() {\n",
       "    var sbegin = \"\";\n",
       "    var sformat = '<a href=\"#__HREF__\">__TITLE__</a>';\n",
       "    var send = \"\";\n",
       "    var begin_format = '<li>';\n",
       "    var end_format = '</li>';\n",
       "    var keep_item = -1;\n",
       "    var text_menu = update_menu_string(sbegin, 2, 4, sformat, send, keep_item,\n",
       "       begin_format, end_format);\n",
       "    var menu = document.getElementById(\"my_id_menu_nb\");\n",
       "    menu.innerHTML=text_menu;\n",
       "};\n",
       "window.setTimeout(update_menu,2000);\n",
       "            </script>"
      ],
      "text/plain": [
       "<IPython.core.display.HTML object>"
      ]
     },
     "execution_count": 2,
     "metadata": {},
     "output_type": "execute_result"
    }
   ],
   "source": [
    "from jyquickhelper import add_notebook_menu\n",
    "add_notebook_menu()"
   ]
  },
  {
   "cell_type": "code",
   "execution_count": 3,
   "id": "117d59f6",
   "metadata": {},
   "outputs": [],
   "source": [
    "import numpy as np\n",
    "import pandas as pd\n",
    "import matplotlib.pyplot as plt\n",
    "import seaborn as sns\n",
    "import matplotlib as mpl\n",
    "import sys\n",
    "import sklearn\n",
    "from datetime import datetime\n",
    "import time\n",
    "from sklearn.preprocessing import StandardScaler\n",
    "from sklearn.metrics import adjusted_rand_score\n",
    "from sklearn.cluster import KMeans\n",
    "import warnings\n",
    "%matplotlib inline\n",
    "warnings.filterwarnings('ignore')"
   ]
  },
  {
   "cell_type": "code",
   "execution_count": 4,
   "id": "82ee8997",
   "metadata": {},
   "outputs": [],
   "source": [
    "data_maint = pd.read_csv('data.maint.csv')"
   ]
  },
  {
   "cell_type": "code",
   "execution_count": 5,
   "id": "16b6fe15",
   "metadata": {},
   "outputs": [],
   "source": [
    "data_maint['order_purchase_timestamp'] = data_maint[\n",
    "    'order_purchase_timestamp'].apply(\n",
    "     lambda x: datetime.strptime(x, \"%Y-%m-%d %H:%M:%S\")\n",
    "                                    )"
   ]
  },
  {
   "cell_type": "code",
   "execution_count": 6,
   "id": "ecc2b9cb",
   "metadata": {},
   "outputs": [],
   "source": [
    "data_maint = data_maint.set_index('customer_unique_id')\n",
    "data_maint = data_maint.drop(['customer_state', 'payment_type',\n",
    "                              'product_category_name'], 1)"
   ]
  },
  {
   "cell_type": "code",
   "execution_count": 7,
   "id": "11708765",
   "metadata": {},
   "outputs": [],
   "source": [
    "colonnes = data_maint.columns.to_list()\n",
    "colonnes.remove('order_purchase_timestamp')"
   ]
  },
  {
   "cell_type": "markdown",
   "id": "bc42bb9b",
   "metadata": {},
   "source": [
    "Pour étudier la stabilité des clusters au cours du temps, on doit calculer l'écart entre un \"predict\" du modèle initial\n",
    "et le \"fit\" d'un nouveau modèle grâce à la fonction Ajusted_Rand_Score de la façon suivante:\n",
    "adjusted_rand_score(labels_true, labels_pred)\n",
    "\n",
    "La fonction Ajusted_Rand_Score calcule une mesure de similarité entre deux clusters en considérant toutes les paires d'échantillons et en comptant les paires qui sont assignées dans le même cluster ou dans des clusters différents dans les clusters prédits et réels."
   ]
  },
  {
   "cell_type": "code",
   "execution_count": 8,
   "id": "6b84d3f6",
   "metadata": {},
   "outputs": [],
   "source": [
    "debut_periode, fin_periode = data_maint['order_purchase_timestamp'].min(),\\\n",
    "                             data_maint['order_purchase_timestamp'].max()"
   ]
  },
  {
   "cell_type": "code",
   "execution_count": 9,
   "id": "c17d75fc",
   "metadata": {},
   "outputs": [
    {
     "data": {
      "text/plain": [
       "(Timestamp('2016-10-03 09:44:50'), Timestamp('2018-08-29 15:00:37'))"
      ]
     },
     "execution_count": 9,
     "metadata": {},
     "output_type": "execute_result"
    }
   ],
   "source": [
    "debut_periode, fin_periode"
   ]
  },
  {
   "cell_type": "markdown",
   "id": "7121b044",
   "metadata": {},
   "source": [
    "## <span style='background:Thistle'>1. Mise à jour par semaine</span>"
   ]
  },
  {
   "cell_type": "code",
   "execution_count": 10,
   "id": "78893106",
   "metadata": {},
   "outputs": [],
   "source": [
    "date_T0_sem = pd.date_range(debut_periode, fin_periode, freq=\"w\")[74]\n",
    "date_T0_TN_sem = pd.date_range(debut_periode, fin_periode, freq=\"w\")[75:]"
   ]
  },
  {
   "cell_type": "markdown",
   "id": "d769f60d",
   "metadata": {},
   "source": [
    "On va étudier la stabilité des clusters sur les 5 derniers mois"
   ]
  },
  {
   "cell_type": "code",
   "execution_count": 11,
   "id": "a69f6d14",
   "metadata": {},
   "outputs": [
    {
     "data": {
      "text/plain": [
       "Timestamp('2018-03-11 09:44:50', freq='W-SUN')"
      ]
     },
     "execution_count": 11,
     "metadata": {},
     "output_type": "execute_result"
    }
   ],
   "source": [
    "date_T0_sem"
   ]
  },
  {
   "cell_type": "code",
   "execution_count": 12,
   "id": "f073d79f",
   "metadata": {},
   "outputs": [
    {
     "data": {
      "text/plain": [
       "DatetimeIndex(['2018-03-18 09:44:50', '2018-03-25 09:44:50',\n",
       "               '2018-04-01 09:44:50', '2018-04-08 09:44:50',\n",
       "               '2018-04-15 09:44:50', '2018-04-22 09:44:50',\n",
       "               '2018-04-29 09:44:50', '2018-05-06 09:44:50',\n",
       "               '2018-05-13 09:44:50', '2018-05-20 09:44:50',\n",
       "               '2018-05-27 09:44:50', '2018-06-03 09:44:50',\n",
       "               '2018-06-10 09:44:50', '2018-06-17 09:44:50',\n",
       "               '2018-06-24 09:44:50', '2018-07-01 09:44:50',\n",
       "               '2018-07-08 09:44:50', '2018-07-15 09:44:50',\n",
       "               '2018-07-22 09:44:50', '2018-07-29 09:44:50',\n",
       "               '2018-08-05 09:44:50', '2018-08-12 09:44:50',\n",
       "               '2018-08-19 09:44:50', '2018-08-26 09:44:50'],\n",
       "              dtype='datetime64[ns]', freq='W-SUN')"
      ]
     },
     "execution_count": 12,
     "metadata": {},
     "output_type": "execute_result"
    }
   ],
   "source": [
    "date_T0_TN_sem"
   ]
  },
  {
   "cell_type": "code",
   "execution_count": 13,
   "id": "bb9d3973",
   "metadata": {},
   "outputs": [],
   "source": [
    "data_F0 = data_maint[(data_maint['order_purchase_timestamp'] < date_T0_sem)]\n",
    "data_F0 = data_F0[colonnes].copy()"
   ]
  },
  {
   "cell_type": "code",
   "execution_count": 14,
   "id": "01dd5a70",
   "metadata": {
    "scrolled": true
   },
   "outputs": [
    {
     "data": {
      "text/plain": [
       "KMeans(n_clusters=6, random_state=42)"
      ]
     },
     "execution_count": 14,
     "metadata": {},
     "output_type": "execute_result"
    }
   ],
   "source": [
    "model_M0 = KMeans(n_clusters=6, init='k-means++',\n",
    "                  max_iter=300, random_state=42)\n",
    "scaler_T0 = StandardScaler()\n",
    "data_F0 = scaler_T0.fit_transform(data_F0)\n",
    "model_M0.fit(data_F0)"
   ]
  },
  {
   "cell_type": "code",
   "execution_count": 15,
   "id": "86f0bbac",
   "metadata": {},
   "outputs": [
    {
     "name": "stdout",
     "output_type": "stream",
     "text": [
      "nombre de client : 62014 pour la date : 2018-03-18 09:44:50  ( T 1 )\n",
      "nombre de client : 63769 pour la date : 2018-03-25 09:44:50  ( T 2 )\n",
      "nombre de client : 65215 pour la date : 2018-04-01 09:44:50  ( T 3 )\n",
      "nombre de client : 66780 pour la date : 2018-04-08 09:44:50  ( T 4 )\n",
      "nombre de client : 68259 pour la date : 2018-04-15 09:44:50  ( T 5 )\n",
      "nombre de client : 69965 pour la date : 2018-04-22 09:44:50  ( T 6 )\n",
      "nombre de client : 71695 pour la date : 2018-04-29 09:44:50  ( T 7 )\n",
      "nombre de client : 73477 pour la date : 2018-05-06 09:44:50  ( T 8 )\n",
      "nombre de client : 75481 pour la date : 2018-05-13 09:44:50  ( T 9 )\n",
      "nombre de client : 77399 pour la date : 2018-05-20 09:44:50  ( T 10 )\n",
      "nombre de client : 78446 pour la date : 2018-05-27 09:44:50  ( T 11 )\n",
      "nombre de client : 79437 pour la date : 2018-06-03 09:44:50  ( T 12 )\n",
      "nombre de client : 80910 pour la date : 2018-06-10 09:44:50  ( T 13 )\n",
      "nombre de client : 82489 pour la date : 2018-06-17 09:44:50  ( T 14 )\n",
      "nombre de client : 83941 pour la date : 2018-06-24 09:44:50  ( T 15 )\n",
      "nombre de client : 85408 pour la date : 2018-07-01 09:44:50  ( T 16 )\n",
      "nombre de client : 86626 pour la date : 2018-07-08 09:44:50  ( T 17 )\n",
      "nombre de client : 87563 pour la date : 2018-07-15 09:44:50  ( T 18 )\n",
      "nombre de client : 89181 pour la date : 2018-07-22 09:44:50  ( T 19 )\n",
      "nombre de client : 90840 pour la date : 2018-07-29 09:44:50  ( T 20 )\n",
      "nombre de client : 92801 pour la date : 2018-08-05 09:44:50  ( T 21 )\n",
      "nombre de client : 94870 pour la date : 2018-08-12 09:44:50  ( T 22 )\n",
      "nombre de client : 96706 pour la date : 2018-08-19 09:44:50  ( T 23 )\n",
      "nombre de client : 97940 pour la date : 2018-08-26 09:44:50  ( T 24 )\n"
     ]
    }
   ],
   "source": [
    "ARI_score_sem = []\n",
    "sem = 0\n",
    "for date_TI in date_T0_TN_sem:\n",
    "    data_TI = data_maint[(data_maint['order_purchase_timestamp'] < date_TI)]\n",
    "    data_TI = data_TI[colonnes].copy()\n",
    "    sem += 1\n",
    "    print('nombre de client :', len(data_TI), 'pour la date :',\n",
    "          date_TI, ' ( T', sem, ')')\n",
    "    scaler_TI = StandardScaler()\n",
    "    data_TI_scaled = scaler_TI.fit_transform(data_TI)\n",
    "    model_MI = KMeans(n_clusters=5, init='k-means++',\n",
    "                      max_iter=300, random_state=42)\n",
    "    model_MI.fit(data_TI_scaled)\n",
    "    ARI_score_sem.append(\n",
    "        adjusted_rand_score(\n",
    "            model_MI.predict(data_TI_scaled),\n",
    "            model_M0.predict(scaler_T0.transform(data_TI))\n",
    "        )\n",
    "    )"
   ]
  },
  {
   "cell_type": "code",
   "execution_count": 16,
   "id": "c6444a51",
   "metadata": {},
   "outputs": [
    {
     "data": {
      "image/png": "[encoded data removed]",
      "text/plain": [
       "<Figure size 1500x700 with 1 Axes>"
      ]
     },
     "metadata": {},
     "output_type": "display_data"
    }
   ],
   "source": [
    "df_ARI = pd.DataFrame({\"Semaine\": range(0, len(ARI_score_sem)),\n",
    "                      \"Score_ARI\": ARI_score_sem})\n",
    "plt.figure(figsize=(15, 7))\n",
    "plt.plot(\n",
    "    \"Semaine\",\n",
    "    \"Score_ARI\",\n",
    "    data=df_ARI,\n",
    "    linestyle=\"-\",\n",
    "    marker=\"o\",\n",
    "    label=\"Score ARI\",\n",
    ")\n",
    "plt.axhline(\n",
    "    y=0.8,\n",
    "    linestyle=\"--\",\n",
    "    color=\"black\",\n",
    "    label=\"ARI=0.8\",\n",
    ")\n",
    "plt.grid()\n",
    "plt.xlim(1, len(ARI_score_sem))\n",
    "plt.xlabel(\"Semaines \")\n",
    "plt.ylabel(\"Score ARI\")\n",
    "plt.legend()\n",
    "plt.title(\"Score ARI en fonction des semaines \")\n",
    "plt.show()"
   ]
  },
  {
   "cell_type": "markdown",
   "id": "463c5877",
   "metadata": {},
   "source": [
    "Au bout de 8 semaines, le score ARI est inférieur à 0.8. Il faut faire une mise à jour des clients tous les 8 semaines (2 mois)."
   ]
  },
  {
   "cell_type": "markdown",
   "id": "10aef86c",
   "metadata": {},
   "source": [
    "## <span style='background:Thistle'>2. Mise à jour par mois</span>"
   ]
  },
  {
   "cell_type": "code",
   "execution_count": 17,
   "id": "a4d5c2d2",
   "metadata": {},
   "outputs": [],
   "source": [
    "date_T0_mois = pd.date_range(debut_periode, fin_periode, freq=\"M\")[8]\n",
    "date_T0_TN_mois = pd.date_range(debut_periode, fin_periode, freq=\"M\")[9:]"
   ]
  },
  {
   "cell_type": "markdown",
   "id": "f7a1998a",
   "metadata": {},
   "source": [
    "On va étudier la stabilité des clusters sur les 14 derniers mois"
   ]
  },
  {
   "cell_type": "code",
   "execution_count": 18,
   "id": "f2c70939",
   "metadata": {},
   "outputs": [
    {
     "data": {
      "text/plain": [
       "Timestamp('2017-06-30 09:44:50', freq='M')"
      ]
     },
     "execution_count": 18,
     "metadata": {},
     "output_type": "execute_result"
    }
   ],
   "source": [
    "date_T0_mois"
   ]
  },
  {
   "cell_type": "code",
   "execution_count": 19,
   "id": "88142215",
   "metadata": {},
   "outputs": [
    {
     "data": {
      "text/plain": [
       "DatetimeIndex(['2017-07-31 09:44:50', '2017-08-31 09:44:50',\n",
       "               '2017-09-30 09:44:50', '2017-10-31 09:44:50',\n",
       "               '2017-11-30 09:44:50', '2017-12-31 09:44:50',\n",
       "               '2018-01-31 09:44:50', '2018-02-28 09:44:50',\n",
       "               '2018-03-31 09:44:50', '2018-04-30 09:44:50',\n",
       "               '2018-05-31 09:44:50', '2018-06-30 09:44:50',\n",
       "               '2018-07-31 09:44:50'],\n",
       "              dtype='datetime64[ns]', freq='M')"
      ]
     },
     "execution_count": 19,
     "metadata": {},
     "output_type": "execute_result"
    }
   ],
   "source": [
    "date_T0_TN_mois"
   ]
  },
  {
   "cell_type": "code",
   "execution_count": 20,
   "id": "f7066a22",
   "metadata": {},
   "outputs": [],
   "source": [
    "data_F0_mois = data_maint[(data_maint['order_purchase_timestamp']\n",
    "                           < date_T0_mois)]\n",
    "data_F0_mois = data_F0_mois[colonnes].copy()"
   ]
  },
  {
   "cell_type": "code",
   "execution_count": 21,
   "id": "93c1c6fa",
   "metadata": {},
   "outputs": [
    {
     "data": {
      "text/plain": [
       "KMeans(n_clusters=5, random_state=42)"
      ]
     },
     "execution_count": 21,
     "metadata": {},
     "output_type": "execute_result"
    }
   ],
   "source": [
    "model_M0 = KMeans(n_clusters=5, init='k-means++',\n",
    "                  max_iter=300, random_state=42)\n",
    "scaler_T0 = StandardScaler()\n",
    "data_F0_mois = scaler_T0.fit_transform(data_F0_mois)\n",
    "model_M0.fit(data_F0_mois)"
   ]
  },
  {
   "cell_type": "code",
   "execution_count": 22,
   "id": "a60296d3",
   "metadata": {},
   "outputs": [
    {
     "name": "stdout",
     "output_type": "stream",
     "text": [
      "nombre de client : 17939 pour la date : 2017-07-31 09:44:50  ( T 1 )\n",
      "nombre de client : 22251 pour la date : 2017-08-31 09:44:50  ( T 2 )\n",
      "nombre de client : 26474 pour la date : 2017-09-30 09:44:50  ( T 3 )\n",
      "nombre de client : 30995 pour la date : 2017-10-31 09:44:50  ( T 4 )\n",
      "nombre de client : 38431 pour la date : 2017-11-30 09:44:50  ( T 5 )\n",
      "nombre de client : 44167 pour la date : 2017-12-31 09:44:50  ( T 6 )\n",
      "nombre de client : 51094 pour la date : 2018-01-31 09:44:50  ( T 7 )\n",
      "nombre de client : 57824 pour la date : 2018-02-28 09:44:50  ( T 8 )\n",
      "nombre de client : 65046 pour la date : 2018-03-31 09:44:50  ( T 9 )\n",
      "nombre de client : 71896 pour la date : 2018-04-30 09:44:50  ( T 10 )\n",
      "nombre de client : 78972 pour la date : 2018-05-31 09:44:50  ( T 11 )\n",
      "nombre de client : 85282 pour la date : 2018-06-30 09:44:50  ( T 12 )\n",
      "nombre de client : 91321 pour la date : 2018-07-31 09:44:50  ( T 13 )\n"
     ]
    }
   ],
   "source": [
    "ARI_score_mois = []\n",
    "mois = 0\n",
    "for date_TI in date_T0_TN_mois:\n",
    "    data_TI = data_maint[(data_maint['order_purchase_timestamp'] < date_TI)]\n",
    "    data_TI = data_TI[colonnes].copy()\n",
    "    mois += 1\n",
    "    print('nombre de client :', len(data_TI), 'pour la date :',\n",
    "          date_TI, ' ( T', mois, ')')\n",
    "    scaler_TI = StandardScaler()\n",
    "    data_TI_scaled = scaler_TI.fit_transform(data_TI)\n",
    "    model_MI = KMeans(n_clusters=5, init='k-means++',\n",
    "                      max_iter=300, random_state=42)\n",
    "    model_MI.fit(data_TI_scaled)\n",
    "    ARI_score_mois.append(\n",
    "        adjusted_rand_score(\n",
    "            model_MI.predict(data_TI_scaled),\n",
    "            model_M0.predict(scaler_T0.transform(data_TI))\n",
    "        )\n",
    "    )"
   ]
  },
  {
   "cell_type": "code",
   "execution_count": 23,
   "id": "2df5d160",
   "metadata": {},
   "outputs": [
    {
     "data": {
      "image/png": "[encoded data removed]",
      "text/plain": [
       "<Figure size 1500x700 with 1 Axes>"
      ]
     },
     "metadata": {},
     "output_type": "display_data"
    }
   ],
   "source": [
    "df_ARI_mois = pd.DataFrame({\"Mois\": range(0, len(ARI_score_mois)),\n",
    "                           \"Score_ARI\": ARI_score_mois})\n",
    "plt.figure(figsize=(15, 7))\n",
    "plt.plot(\n",
    "    \"Mois\",\n",
    "    \"Score_ARI\",\n",
    "    data=df_ARI_mois,\n",
    "    linestyle=\"-\",\n",
    "    marker=\"o\",\n",
    "    label=\"Score ARI\",\n",
    ")\n",
    "plt.axhline(\n",
    "    y=0.8,\n",
    "    linestyle=\"--\",\n",
    "    color=\"black\",\n",
    "    label=\"ARI=0.8\",\n",
    ")\n",
    "plt.grid()\n",
    "plt.xlim(1, len(ARI_score_mois))\n",
    "plt.xlabel(\"Mois \")\n",
    "plt.ylabel(\"Score ARI\")\n",
    "plt.legend()\n",
    "plt.title(\"Score ARI en fonction des mois \")\n",
    "plt.show()"
   ]
  },
  {
   "cell_type": "code",
   "execution_count": null,
   "id": "890de1ef",
   "metadata": {},
   "outputs": [],
   "source": []
  }
 ],
 "metadata": {
  "kernelspec": {
   "display_name": "Python 3 (ipykernel)",
   "language": "python",
   "name": "python3"
  },
  "language_info": {
   "codemirror_mode": {
    "name": "ipython",
    "version": 3
   },
   "file_extension": ".py",
   "mimetype": "text/x-python",
   "name": "python",
   "nbconvert_exporter": "python",
   "pygments_lexer": "ipython3",
   "version": "3.9.13"
  }
 },
 "nbformat": 4,
 "nbformat_minor": 5
}
